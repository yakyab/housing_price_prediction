{
 "cells": [
  {
   "cell_type": "markdown",
   "source": [
    "# Data Exploration and SQL Processing"
   ],
   "metadata": {
    "collapsed": false
   }
  },
  {
   "cell_type": "markdown",
   "source": [
    "This notebook focuses on the initial exploration of the California Housing dataset and the fundamental data processing using SQL. We will perform various SQL queries to gain insights into the data, identify essential features, and conduct some basic data cleaning.\n",
    "\n",
    "The dataset has been loaded into a SQLite database to enable SQL querying. SQLite is a lightweight disk-based database that doesn't require a separate server process and allows accessing the database using a nonstandard variant of the SQL query language."
   ],
   "metadata": {
    "collapsed": false
   }
  },
  {
   "cell_type": "code",
   "execution_count": 1,
   "metadata": {
    "collapsed": true
   },
   "outputs": [
    {
     "data": {
      "text/plain": "20640"
     },
     "execution_count": 1,
     "metadata": {},
     "output_type": "execute_result"
    }
   ],
   "source": [
    "# Importing necessary libraries\n",
    "import pandas as pd\n",
    "import sqlite3\n",
    "from matplotlib import pyplot as plt\n",
    "import seaborn as sns\n",
    "\n",
    "# Loading the dataset\n",
    "df = pd.read_csv('housing.csv')\n",
    "\n",
    "# Establishing SQLite connection\n",
    "conn = sqlite3.connect('HousingData.db')\n",
    "\n",
    "# Loading the DataFrame into SQL database\n",
    "df.to_sql('housing', conn, if_exists='replace')"
   ]
  },
  {
   "cell_type": "markdown",
   "source": [
    "We have started by importing the necessary Python libraries, including pandas, sqlite3, matplotlib, and seaborn. Pandas is for data manipulation, sqlite3 is for interacting with the SQLite database, matplotlib and seaborn are for data visualization.\n",
    "\n",
    "Next, we loaded the California Housing dataset into a pandas DataFrame and established a connection to a SQLite database. We then loaded the DataFrame into the SQLite database, replacing any existing table with the same name.\n",
    "\n",
    "With the data loaded into the SQLite database, we can now perform SQL queries for data exploration and processing. Our primary focus will be using various SQL commands and techniques to gain a thorough understanding of the dataset and prepare it for further processing and modeling in the subsequent notebooks."
   ],
   "metadata": {
    "collapsed": false
   }
  },
  {
   "cell_type": "code",
   "execution_count": 2,
   "outputs": [
    {
     "data": {
      "text/plain": "   index  longitude  latitude  housing_median_age  total_rooms  \\\n0      0    -122.23     37.88                41.0        880.0   \n1      1    -122.22     37.86                21.0       7099.0   \n2      2    -122.24     37.85                52.0       1467.0   \n3      3    -122.25     37.85                52.0       1274.0   \n4      4    -122.25     37.85                52.0       1627.0   \n\n   total_bedrooms  population  households  median_income  median_house_value  \\\n0           129.0       322.0       126.0         8.3252            452600.0   \n1          1106.0      2401.0      1138.0         8.3014            358500.0   \n2           190.0       496.0       177.0         7.2574            352100.0   \n3           235.0       558.0       219.0         5.6431            341300.0   \n4           280.0       565.0       259.0         3.8462            342200.0   \n\n  ocean_proximity  \n0        NEAR BAY  \n1        NEAR BAY  \n2        NEAR BAY  \n3        NEAR BAY  \n4        NEAR BAY  ",
      "text/html": "<div>\n<style scoped>\n    .dataframe tbody tr th:only-of-type {\n        vertical-align: middle;\n    }\n\n    .dataframe tbody tr th {\n        vertical-align: top;\n    }\n\n    .dataframe thead th {\n        text-align: right;\n    }\n</style>\n<table border=\"1\" class=\"dataframe\">\n  <thead>\n    <tr style=\"text-align: right;\">\n      <th></th>\n      <th>index</th>\n      <th>longitude</th>\n      <th>latitude</th>\n      <th>housing_median_age</th>\n      <th>total_rooms</th>\n      <th>total_bedrooms</th>\n      <th>population</th>\n      <th>households</th>\n      <th>median_income</th>\n      <th>median_house_value</th>\n      <th>ocean_proximity</th>\n    </tr>\n  </thead>\n  <tbody>\n    <tr>\n      <th>0</th>\n      <td>0</td>\n      <td>-122.23</td>\n      <td>37.88</td>\n      <td>41.0</td>\n      <td>880.0</td>\n      <td>129.0</td>\n      <td>322.0</td>\n      <td>126.0</td>\n      <td>8.3252</td>\n      <td>452600.0</td>\n      <td>NEAR BAY</td>\n    </tr>\n    <tr>\n      <th>1</th>\n      <td>1</td>\n      <td>-122.22</td>\n      <td>37.86</td>\n      <td>21.0</td>\n      <td>7099.0</td>\n      <td>1106.0</td>\n      <td>2401.0</td>\n      <td>1138.0</td>\n      <td>8.3014</td>\n      <td>358500.0</td>\n      <td>NEAR BAY</td>\n    </tr>\n    <tr>\n      <th>2</th>\n      <td>2</td>\n      <td>-122.24</td>\n      <td>37.85</td>\n      <td>52.0</td>\n      <td>1467.0</td>\n      <td>190.0</td>\n      <td>496.0</td>\n      <td>177.0</td>\n      <td>7.2574</td>\n      <td>352100.0</td>\n      <td>NEAR BAY</td>\n    </tr>\n    <tr>\n      <th>3</th>\n      <td>3</td>\n      <td>-122.25</td>\n      <td>37.85</td>\n      <td>52.0</td>\n      <td>1274.0</td>\n      <td>235.0</td>\n      <td>558.0</td>\n      <td>219.0</td>\n      <td>5.6431</td>\n      <td>341300.0</td>\n      <td>NEAR BAY</td>\n    </tr>\n    <tr>\n      <th>4</th>\n      <td>4</td>\n      <td>-122.25</td>\n      <td>37.85</td>\n      <td>52.0</td>\n      <td>1627.0</td>\n      <td>280.0</td>\n      <td>565.0</td>\n      <td>259.0</td>\n      <td>3.8462</td>\n      <td>342200.0</td>\n      <td>NEAR BAY</td>\n    </tr>\n  </tbody>\n</table>\n</div>"
     },
     "execution_count": 2,
     "metadata": {},
     "output_type": "execute_result"
    }
   ],
   "source": [
    "# SQL query to display the first 5 rows of the dataset\n",
    "query = \"\"\"\n",
    "SELECT *\n",
    "FROM housing\n",
    "LIMIT 5\n",
    "\"\"\"\n",
    "\n",
    "# Execute the query\n",
    "df_sample = pd.read_sql_query(query, conn)\n",
    "df_sample"
   ],
   "metadata": {
    "collapsed": false,
    "pycharm": {
     "name": "#%%\n"
    }
   }
  },
  {
   "cell_type": "markdown",
   "source": [
    "This SQL query is used to display the first 5 rows from the 'housing' table. The SELECT statement is used to select data from a database, and the asterisk (*) is used to select all columns. The LIMIT clause is used to constrain the number of rows returned by the query."
   ],
   "metadata": {
    "collapsed": false
   }
  },
  {
   "cell_type": "code",
   "execution_count": 3,
   "outputs": [
    {
     "data": {
      "text/plain": "    cid                name     type  notnull dflt_value  pk\n0     0               index  INTEGER        0       None   0\n1     1           longitude     REAL        0       None   0\n2     2            latitude     REAL        0       None   0\n3     3  housing_median_age     REAL        0       None   0\n4     4         total_rooms     REAL        0       None   0\n5     5      total_bedrooms     REAL        0       None   0\n6     6          population     REAL        0       None   0\n7     7          households     REAL        0       None   0\n8     8       median_income     REAL        0       None   0\n9     9  median_house_value     REAL        0       None   0\n10   10     ocean_proximity     TEXT        0       None   0",
      "text/html": "<div>\n<style scoped>\n    .dataframe tbody tr th:only-of-type {\n        vertical-align: middle;\n    }\n\n    .dataframe tbody tr th {\n        vertical-align: top;\n    }\n\n    .dataframe thead th {\n        text-align: right;\n    }\n</style>\n<table border=\"1\" class=\"dataframe\">\n  <thead>\n    <tr style=\"text-align: right;\">\n      <th></th>\n      <th>cid</th>\n      <th>name</th>\n      <th>type</th>\n      <th>notnull</th>\n      <th>dflt_value</th>\n      <th>pk</th>\n    </tr>\n  </thead>\n  <tbody>\n    <tr>\n      <th>0</th>\n      <td>0</td>\n      <td>index</td>\n      <td>INTEGER</td>\n      <td>0</td>\n      <td>None</td>\n      <td>0</td>\n    </tr>\n    <tr>\n      <th>1</th>\n      <td>1</td>\n      <td>longitude</td>\n      <td>REAL</td>\n      <td>0</td>\n      <td>None</td>\n      <td>0</td>\n    </tr>\n    <tr>\n      <th>2</th>\n      <td>2</td>\n      <td>latitude</td>\n      <td>REAL</td>\n      <td>0</td>\n      <td>None</td>\n      <td>0</td>\n    </tr>\n    <tr>\n      <th>3</th>\n      <td>3</td>\n      <td>housing_median_age</td>\n      <td>REAL</td>\n      <td>0</td>\n      <td>None</td>\n      <td>0</td>\n    </tr>\n    <tr>\n      <th>4</th>\n      <td>4</td>\n      <td>total_rooms</td>\n      <td>REAL</td>\n      <td>0</td>\n      <td>None</td>\n      <td>0</td>\n    </tr>\n    <tr>\n      <th>5</th>\n      <td>5</td>\n      <td>total_bedrooms</td>\n      <td>REAL</td>\n      <td>0</td>\n      <td>None</td>\n      <td>0</td>\n    </tr>\n    <tr>\n      <th>6</th>\n      <td>6</td>\n      <td>population</td>\n      <td>REAL</td>\n      <td>0</td>\n      <td>None</td>\n      <td>0</td>\n    </tr>\n    <tr>\n      <th>7</th>\n      <td>7</td>\n      <td>households</td>\n      <td>REAL</td>\n      <td>0</td>\n      <td>None</td>\n      <td>0</td>\n    </tr>\n    <tr>\n      <th>8</th>\n      <td>8</td>\n      <td>median_income</td>\n      <td>REAL</td>\n      <td>0</td>\n      <td>None</td>\n      <td>0</td>\n    </tr>\n    <tr>\n      <th>9</th>\n      <td>9</td>\n      <td>median_house_value</td>\n      <td>REAL</td>\n      <td>0</td>\n      <td>None</td>\n      <td>0</td>\n    </tr>\n    <tr>\n      <th>10</th>\n      <td>10</td>\n      <td>ocean_proximity</td>\n      <td>TEXT</td>\n      <td>0</td>\n      <td>None</td>\n      <td>0</td>\n    </tr>\n  </tbody>\n</table>\n</div>"
     },
     "execution_count": 3,
     "metadata": {},
     "output_type": "execute_result"
    }
   ],
   "source": [
    "# SQL query to get the information about the 'housing' table\n",
    "query = \"\"\"\n",
    "PRAGMA table_info(housing);\n",
    "\"\"\"\n",
    "\n",
    "# Execute the query\n",
    "table_info = pd.read_sql_query(query, conn)\n",
    "table_info"
   ],
   "metadata": {
    "collapsed": false,
    "pycharm": {
     "name": "#%%\n"
    }
   }
  },
  {
   "cell_type": "markdown",
   "source": [
    "The PRAGMA statement is specific to SQLite, and 'table_info' is used to retrieve metadata about a table, such as column names, data types, whether a column can be NULL, and so on."
   ],
   "metadata": {
    "collapsed": false
   }
  },
  {
   "cell_type": "code",
   "execution_count": 4,
   "outputs": [
    {
     "data": {
      "text/plain": "   Missing_Longitude  Missing_Latitude  Missing_Housing_Median_Age  \\\n0                  0                 0                           0   \n\n   Missing_Total_Rooms  Missing_Total_Bedrooms  Missing_Population  \\\n0                    0                     207                   0   \n\n   Missing_Households  Missing_Median_Income  Missing_Median_House_Value  \n0                   0                      0                           0  ",
      "text/html": "<div>\n<style scoped>\n    .dataframe tbody tr th:only-of-type {\n        vertical-align: middle;\n    }\n\n    .dataframe tbody tr th {\n        vertical-align: top;\n    }\n\n    .dataframe thead th {\n        text-align: right;\n    }\n</style>\n<table border=\"1\" class=\"dataframe\">\n  <thead>\n    <tr style=\"text-align: right;\">\n      <th></th>\n      <th>Missing_Longitude</th>\n      <th>Missing_Latitude</th>\n      <th>Missing_Housing_Median_Age</th>\n      <th>Missing_Total_Rooms</th>\n      <th>Missing_Total_Bedrooms</th>\n      <th>Missing_Population</th>\n      <th>Missing_Households</th>\n      <th>Missing_Median_Income</th>\n      <th>Missing_Median_House_Value</th>\n    </tr>\n  </thead>\n  <tbody>\n    <tr>\n      <th>0</th>\n      <td>0</td>\n      <td>0</td>\n      <td>0</td>\n      <td>0</td>\n      <td>207</td>\n      <td>0</td>\n      <td>0</td>\n      <td>0</td>\n      <td>0</td>\n    </tr>\n  </tbody>\n</table>\n</div>"
     },
     "execution_count": 4,
     "metadata": {},
     "output_type": "execute_result"
    }
   ],
   "source": [
    "# SQL query to find the number of NULL values in each column\n",
    "query = \"\"\"\n",
    "SELECT\n",
    "    SUM(CASE WHEN longitude IS NULL THEN 1 ELSE 0 END) AS Missing_Longitude,\n",
    "    SUM(CASE WHEN latitude IS NULL THEN 1 ELSE 0 END) AS Missing_Latitude,\n",
    "    SUM(CASE WHEN housing_median_age IS NULL THEN 1 ELSE 0 END) AS Missing_Housing_Median_Age,\n",
    "    SUM(CASE WHEN total_rooms IS NULL THEN 1 ELSE 0 END) AS Missing_Total_Rooms,\n",
    "    SUM(CASE WHEN total_bedrooms IS NULL THEN 1 ELSE 0 END) AS Missing_Total_Bedrooms,\n",
    "    SUM(CASE WHEN population IS NULL THEN 1 ELSE 0 END) AS Missing_Population,\n",
    "    SUM(CASE WHEN households IS NULL THEN 1 ELSE 0 END) AS Missing_Households,\n",
    "    SUM(CASE WHEN median_income IS NULL THEN 1 ELSE 0 END) AS Missing_Median_Income,\n",
    "    SUM(CASE WHEN median_house_value IS NULL THEN 1 ELSE 0 END) AS Missing_Median_House_Value\n",
    "FROM\n",
    "    housing\n",
    "\"\"\"\n",
    "\n",
    "# Execute the query\n",
    "missing_values = pd.read_sql_query(query, conn)\n",
    "missing_values"
   ],
   "metadata": {
    "collapsed": false,
    "pycharm": {
     "name": "#%%\n"
    }
   }
  },
  {
   "cell_type": "markdown",
   "source": [
    "In the above SQL query, we are checking for missing (NULL) values in each column of the 'housing' table. We use the SUM function along with a CASE statement to count the number of NULL values for each column."
   ],
   "metadata": {
    "collapsed": false
   }
  },
  {
   "cell_type": "code",
   "execution_count": 5,
   "outputs": [
    {
     "data": {
      "text/plain": "   Min_Longitude  Max_Longitude  Avg_Longitude  Min_Latitude  Max_Latitude  \\\n0        -124.35        -114.31    -119.569704         32.54         41.95   \n\n   Avg_Latitude  Min_Housing_Median_Age  Max_Housing_Median_Age  \\\n0     35.631861                     1.0                    52.0   \n\n   Avg_Housing_Median_Age  Min_Total_Rooms  ...  Avg_Population  \\\n0               28.639486              2.0  ...     1425.476744   \n\n   Min_Households  Max_Households  Avg_Households  Min_Median_Income  \\\n0             1.0          6082.0       499.53968             0.4999   \n\n   Max_Median_Income  Avg_Median_Income  Min_Median_House_Value  \\\n0            15.0001           3.870671                 14999.0   \n\n   Max_Median_House_Value  Avg_Median_House_Value  \n0                500001.0           206855.816909  \n\n[1 rows x 27 columns]",
      "text/html": "<div>\n<style scoped>\n    .dataframe tbody tr th:only-of-type {\n        vertical-align: middle;\n    }\n\n    .dataframe tbody tr th {\n        vertical-align: top;\n    }\n\n    .dataframe thead th {\n        text-align: right;\n    }\n</style>\n<table border=\"1\" class=\"dataframe\">\n  <thead>\n    <tr style=\"text-align: right;\">\n      <th></th>\n      <th>Min_Longitude</th>\n      <th>Max_Longitude</th>\n      <th>Avg_Longitude</th>\n      <th>Min_Latitude</th>\n      <th>Max_Latitude</th>\n      <th>Avg_Latitude</th>\n      <th>Min_Housing_Median_Age</th>\n      <th>Max_Housing_Median_Age</th>\n      <th>Avg_Housing_Median_Age</th>\n      <th>Min_Total_Rooms</th>\n      <th>...</th>\n      <th>Avg_Population</th>\n      <th>Min_Households</th>\n      <th>Max_Households</th>\n      <th>Avg_Households</th>\n      <th>Min_Median_Income</th>\n      <th>Max_Median_Income</th>\n      <th>Avg_Median_Income</th>\n      <th>Min_Median_House_Value</th>\n      <th>Max_Median_House_Value</th>\n      <th>Avg_Median_House_Value</th>\n    </tr>\n  </thead>\n  <tbody>\n    <tr>\n      <th>0</th>\n      <td>-124.35</td>\n      <td>-114.31</td>\n      <td>-119.569704</td>\n      <td>32.54</td>\n      <td>41.95</td>\n      <td>35.631861</td>\n      <td>1.0</td>\n      <td>52.0</td>\n      <td>28.639486</td>\n      <td>2.0</td>\n      <td>...</td>\n      <td>1425.476744</td>\n      <td>1.0</td>\n      <td>6082.0</td>\n      <td>499.53968</td>\n      <td>0.4999</td>\n      <td>15.0001</td>\n      <td>3.870671</td>\n      <td>14999.0</td>\n      <td>500001.0</td>\n      <td>206855.816909</td>\n    </tr>\n  </tbody>\n</table>\n<p>1 rows × 27 columns</p>\n</div>"
     },
     "execution_count": 5,
     "metadata": {},
     "output_type": "execute_result"
    }
   ],
   "source": [
    "# SQL query to get basic statistics for numerical columns\n",
    "query = \"\"\"\n",
    "SELECT\n",
    "    MIN(longitude) as Min_Longitude,\n",
    "    MAX(longitude) as Max_Longitude,\n",
    "    AVG(longitude) as Avg_Longitude,\n",
    "    MIN(latitude) as Min_Latitude,\n",
    "    MAX(latitude) as Max_Latitude,\n",
    "    AVG(latitude) as Avg_Latitude,\n",
    "    MIN(housing_median_age) as Min_Housing_Median_Age,\n",
    "    MAX(housing_median_age) as Max_Housing_Median_Age,\n",
    "    AVG(housing_median_age) as Avg_Housing_Median_Age,\n",
    "    MIN(total_rooms) as Min_Total_Rooms,\n",
    "    MAX(total_rooms) as Max_Total_Rooms,\n",
    "    AVG(total_rooms) as Avg_Total_Rooms,\n",
    "    MIN(total_bedrooms) as Min_Total_Bedrooms,\n",
    "    MAX(total_bedrooms) as Max_Total_Bedrooms,\n",
    "    AVG(total_bedrooms) as Avg_Total_Bedrooms,\n",
    "    MIN(population) as Min_Population,\n",
    "    MAX(population) as Max_Population,\n",
    "    AVG(population) as Avg_Population,\n",
    "    MIN(households) as Min_Households,\n",
    "    MAX(households) as Max_Households,\n",
    "    AVG(households) as Avg_Households,\n",
    "    MIN(median_income) as Min_Median_Income,\n",
    "    MAX(median_income) as Max_Median_Income,\n",
    "    AVG(median_income) as Avg_Median_Income,\n",
    "    MIN(median_house_value) as Min_Median_House_Value,\n",
    "    MAX(median_house_value) as Max_Median_House_Value,\n",
    "    AVG(median_house_value) as Avg_Median_House_Value\n",
    "FROM\n",
    "    housing\n",
    "\"\"\"\n",
    "\n",
    "# Execute the query\n",
    "stats = pd.read_sql_query(query, conn)\n",
    "stats"
   ],
   "metadata": {
    "collapsed": false,
    "pycharm": {
     "name": "#%%\n"
    }
   }
  },
  {
   "cell_type": "markdown",
   "source": [
    "In this SQL query, we are generating basic statistical measures such as minimum, maximum, average for each of the numerical columns in the 'housing' table. We use the MIN, MAX, and AVG functions provided by SQL to compute these statistics."
   ],
   "metadata": {
    "collapsed": false
   }
  },
  {
   "cell_type": "code",
   "execution_count": 6,
   "outputs": [
    {
     "data": {
      "text/plain": "    housing_median_age\n0                  1.0\n1                  2.0\n2                  3.0\n3                  4.0\n4                  5.0\n5                  6.0\n6                  7.0\n7                  8.0\n8                  9.0\n9                 10.0\n10                11.0\n11                12.0\n12                13.0\n13                14.0\n14                15.0\n15                16.0\n16                17.0\n17                18.0\n18                19.0\n19                20.0\n20                21.0\n21                22.0\n22                23.0\n23                24.0\n24                25.0\n25                26.0\n26                27.0\n27                28.0\n28                29.0\n29                30.0\n30                31.0\n31                32.0\n32                33.0\n33                34.0\n34                35.0\n35                36.0\n36                37.0\n37                38.0\n38                39.0\n39                40.0\n40                41.0\n41                42.0\n42                43.0\n43                44.0\n44                45.0\n45                46.0\n46                47.0\n47                48.0\n48                49.0\n49                50.0\n50                51.0\n51                52.0",
      "text/html": "<div>\n<style scoped>\n    .dataframe tbody tr th:only-of-type {\n        vertical-align: middle;\n    }\n\n    .dataframe tbody tr th {\n        vertical-align: top;\n    }\n\n    .dataframe thead th {\n        text-align: right;\n    }\n</style>\n<table border=\"1\" class=\"dataframe\">\n  <thead>\n    <tr style=\"text-align: right;\">\n      <th></th>\n      <th>housing_median_age</th>\n    </tr>\n  </thead>\n  <tbody>\n    <tr>\n      <th>0</th>\n      <td>1.0</td>\n    </tr>\n    <tr>\n      <th>1</th>\n      <td>2.0</td>\n    </tr>\n    <tr>\n      <th>2</th>\n      <td>3.0</td>\n    </tr>\n    <tr>\n      <th>3</th>\n      <td>4.0</td>\n    </tr>\n    <tr>\n      <th>4</th>\n      <td>5.0</td>\n    </tr>\n    <tr>\n      <th>5</th>\n      <td>6.0</td>\n    </tr>\n    <tr>\n      <th>6</th>\n      <td>7.0</td>\n    </tr>\n    <tr>\n      <th>7</th>\n      <td>8.0</td>\n    </tr>\n    <tr>\n      <th>8</th>\n      <td>9.0</td>\n    </tr>\n    <tr>\n      <th>9</th>\n      <td>10.0</td>\n    </tr>\n    <tr>\n      <th>10</th>\n      <td>11.0</td>\n    </tr>\n    <tr>\n      <th>11</th>\n      <td>12.0</td>\n    </tr>\n    <tr>\n      <th>12</th>\n      <td>13.0</td>\n    </tr>\n    <tr>\n      <th>13</th>\n      <td>14.0</td>\n    </tr>\n    <tr>\n      <th>14</th>\n      <td>15.0</td>\n    </tr>\n    <tr>\n      <th>15</th>\n      <td>16.0</td>\n    </tr>\n    <tr>\n      <th>16</th>\n      <td>17.0</td>\n    </tr>\n    <tr>\n      <th>17</th>\n      <td>18.0</td>\n    </tr>\n    <tr>\n      <th>18</th>\n      <td>19.0</td>\n    </tr>\n    <tr>\n      <th>19</th>\n      <td>20.0</td>\n    </tr>\n    <tr>\n      <th>20</th>\n      <td>21.0</td>\n    </tr>\n    <tr>\n      <th>21</th>\n      <td>22.0</td>\n    </tr>\n    <tr>\n      <th>22</th>\n      <td>23.0</td>\n    </tr>\n    <tr>\n      <th>23</th>\n      <td>24.0</td>\n    </tr>\n    <tr>\n      <th>24</th>\n      <td>25.0</td>\n    </tr>\n    <tr>\n      <th>25</th>\n      <td>26.0</td>\n    </tr>\n    <tr>\n      <th>26</th>\n      <td>27.0</td>\n    </tr>\n    <tr>\n      <th>27</th>\n      <td>28.0</td>\n    </tr>\n    <tr>\n      <th>28</th>\n      <td>29.0</td>\n    </tr>\n    <tr>\n      <th>29</th>\n      <td>30.0</td>\n    </tr>\n    <tr>\n      <th>30</th>\n      <td>31.0</td>\n    </tr>\n    <tr>\n      <th>31</th>\n      <td>32.0</td>\n    </tr>\n    <tr>\n      <th>32</th>\n      <td>33.0</td>\n    </tr>\n    <tr>\n      <th>33</th>\n      <td>34.0</td>\n    </tr>\n    <tr>\n      <th>34</th>\n      <td>35.0</td>\n    </tr>\n    <tr>\n      <th>35</th>\n      <td>36.0</td>\n    </tr>\n    <tr>\n      <th>36</th>\n      <td>37.0</td>\n    </tr>\n    <tr>\n      <th>37</th>\n      <td>38.0</td>\n    </tr>\n    <tr>\n      <th>38</th>\n      <td>39.0</td>\n    </tr>\n    <tr>\n      <th>39</th>\n      <td>40.0</td>\n    </tr>\n    <tr>\n      <th>40</th>\n      <td>41.0</td>\n    </tr>\n    <tr>\n      <th>41</th>\n      <td>42.0</td>\n    </tr>\n    <tr>\n      <th>42</th>\n      <td>43.0</td>\n    </tr>\n    <tr>\n      <th>43</th>\n      <td>44.0</td>\n    </tr>\n    <tr>\n      <th>44</th>\n      <td>45.0</td>\n    </tr>\n    <tr>\n      <th>45</th>\n      <td>46.0</td>\n    </tr>\n    <tr>\n      <th>46</th>\n      <td>47.0</td>\n    </tr>\n    <tr>\n      <th>47</th>\n      <td>48.0</td>\n    </tr>\n    <tr>\n      <th>48</th>\n      <td>49.0</td>\n    </tr>\n    <tr>\n      <th>49</th>\n      <td>50.0</td>\n    </tr>\n    <tr>\n      <th>50</th>\n      <td>51.0</td>\n    </tr>\n    <tr>\n      <th>51</th>\n      <td>52.0</td>\n    </tr>\n  </tbody>\n</table>\n</div>"
     },
     "execution_count": 6,
     "metadata": {},
     "output_type": "execute_result"
    }
   ],
   "source": [
    "# SQL query to find the unique values in the 'housing_median_age' column\n",
    "query = \"\"\"\n",
    "SELECT DISTINCT housing_median_age\n",
    "FROM housing\n",
    "ORDER BY housing_median_age\n",
    "\"\"\"\n",
    "\n",
    "# Execute the query\n",
    "unique_values = pd.read_sql_query(query, conn)\n",
    "unique_values"
   ],
   "metadata": {
    "collapsed": false,
    "pycharm": {
     "name": "#%%\n"
    }
   }
  },
  {
   "cell_type": "markdown",
   "source": [
    "In the above SQL query, we use the DISTINCT keyword to find unique values in the 'housing_median_age' column. We also use the ORDER BY clause to sort the result."
   ],
   "metadata": {
    "collapsed": false
   }
  },
  {
   "cell_type": "code",
   "execution_count": 7,
   "outputs": [
    {
     "data": {
      "text/plain": "    housing_median_age  Avg_Median_House_Value\n0                  1.0           144300.000000\n1                  2.0           224475.913793\n2                  3.0           235643.580645\n3                  4.0           229235.136126\n4                  5.0           208417.655738\n5                  6.0           203794.393750\n6                  7.0           193296.034286\n7                  8.0           194414.582524\n8                  9.0           186672.702439\n9                 10.0           176580.704545\n10                11.0           179907.901575\n11                12.0           182046.235294\n12                13.0           190181.807947\n13                14.0           189597.104369\n14                15.0           181808.416016\n15                16.0           200180.562905\n16                17.0           190494.289398\n17                18.0           193354.766667\n18                19.0           193197.838645\n19                20.0           195659.815054\n20                21.0           200156.535874\n21                22.0           209897.558897\n22                23.0           204554.741071\n23                24.0           205833.098326\n24                25.0           220414.180212\n25                26.0           209475.316640\n26                27.0           208296.973361\n27                28.0           208158.866242\n28                29.0           197227.800434\n29                30.0           200252.560924\n30                31.0           207084.117904\n31                32.0           203410.141593\n32                33.0           203628.175610\n33                34.0           214593.962264\n34                35.0           207298.950243\n35                36.0           207573.943155\n36                37.0           207360.772812\n37                38.0           193593.695431\n38                39.0           208890.560976\n39                40.0           208918.483553\n40                41.0           197253.773649\n41                42.0           198772.603261\n42                43.0           193639.135977\n43                44.0           216233.471910\n44                45.0           217798.020408\n45                46.0           200784.934694\n46                47.0           190601.050505\n47                48.0           222571.807910\n48                49.0           220335.880597\n49                50.0           217880.242647\n50                51.0           227718.833333\n51                52.0           275420.871170",
      "text/html": "<div>\n<style scoped>\n    .dataframe tbody tr th:only-of-type {\n        vertical-align: middle;\n    }\n\n    .dataframe tbody tr th {\n        vertical-align: top;\n    }\n\n    .dataframe thead th {\n        text-align: right;\n    }\n</style>\n<table border=\"1\" class=\"dataframe\">\n  <thead>\n    <tr style=\"text-align: right;\">\n      <th></th>\n      <th>housing_median_age</th>\n      <th>Avg_Median_House_Value</th>\n    </tr>\n  </thead>\n  <tbody>\n    <tr>\n      <th>0</th>\n      <td>1.0</td>\n      <td>144300.000000</td>\n    </tr>\n    <tr>\n      <th>1</th>\n      <td>2.0</td>\n      <td>224475.913793</td>\n    </tr>\n    <tr>\n      <th>2</th>\n      <td>3.0</td>\n      <td>235643.580645</td>\n    </tr>\n    <tr>\n      <th>3</th>\n      <td>4.0</td>\n      <td>229235.136126</td>\n    </tr>\n    <tr>\n      <th>4</th>\n      <td>5.0</td>\n      <td>208417.655738</td>\n    </tr>\n    <tr>\n      <th>5</th>\n      <td>6.0</td>\n      <td>203794.393750</td>\n    </tr>\n    <tr>\n      <th>6</th>\n      <td>7.0</td>\n      <td>193296.034286</td>\n    </tr>\n    <tr>\n      <th>7</th>\n      <td>8.0</td>\n      <td>194414.582524</td>\n    </tr>\n    <tr>\n      <th>8</th>\n      <td>9.0</td>\n      <td>186672.702439</td>\n    </tr>\n    <tr>\n      <th>9</th>\n      <td>10.0</td>\n      <td>176580.704545</td>\n    </tr>\n    <tr>\n      <th>10</th>\n      <td>11.0</td>\n      <td>179907.901575</td>\n    </tr>\n    <tr>\n      <th>11</th>\n      <td>12.0</td>\n      <td>182046.235294</td>\n    </tr>\n    <tr>\n      <th>12</th>\n      <td>13.0</td>\n      <td>190181.807947</td>\n    </tr>\n    <tr>\n      <th>13</th>\n      <td>14.0</td>\n      <td>189597.104369</td>\n    </tr>\n    <tr>\n      <th>14</th>\n      <td>15.0</td>\n      <td>181808.416016</td>\n    </tr>\n    <tr>\n      <th>15</th>\n      <td>16.0</td>\n      <td>200180.562905</td>\n    </tr>\n    <tr>\n      <th>16</th>\n      <td>17.0</td>\n      <td>190494.289398</td>\n    </tr>\n    <tr>\n      <th>17</th>\n      <td>18.0</td>\n      <td>193354.766667</td>\n    </tr>\n    <tr>\n      <th>18</th>\n      <td>19.0</td>\n      <td>193197.838645</td>\n    </tr>\n    <tr>\n      <th>19</th>\n      <td>20.0</td>\n      <td>195659.815054</td>\n    </tr>\n    <tr>\n      <th>20</th>\n      <td>21.0</td>\n      <td>200156.535874</td>\n    </tr>\n    <tr>\n      <th>21</th>\n      <td>22.0</td>\n      <td>209897.558897</td>\n    </tr>\n    <tr>\n      <th>22</th>\n      <td>23.0</td>\n      <td>204554.741071</td>\n    </tr>\n    <tr>\n      <th>23</th>\n      <td>24.0</td>\n      <td>205833.098326</td>\n    </tr>\n    <tr>\n      <th>24</th>\n      <td>25.0</td>\n      <td>220414.180212</td>\n    </tr>\n    <tr>\n      <th>25</th>\n      <td>26.0</td>\n      <td>209475.316640</td>\n    </tr>\n    <tr>\n      <th>26</th>\n      <td>27.0</td>\n      <td>208296.973361</td>\n    </tr>\n    <tr>\n      <th>27</th>\n      <td>28.0</td>\n      <td>208158.866242</td>\n    </tr>\n    <tr>\n      <th>28</th>\n      <td>29.0</td>\n      <td>197227.800434</td>\n    </tr>\n    <tr>\n      <th>29</th>\n      <td>30.0</td>\n      <td>200252.560924</td>\n    </tr>\n    <tr>\n      <th>30</th>\n      <td>31.0</td>\n      <td>207084.117904</td>\n    </tr>\n    <tr>\n      <th>31</th>\n      <td>32.0</td>\n      <td>203410.141593</td>\n    </tr>\n    <tr>\n      <th>32</th>\n      <td>33.0</td>\n      <td>203628.175610</td>\n    </tr>\n    <tr>\n      <th>33</th>\n      <td>34.0</td>\n      <td>214593.962264</td>\n    </tr>\n    <tr>\n      <th>34</th>\n      <td>35.0</td>\n      <td>207298.950243</td>\n    </tr>\n    <tr>\n      <th>35</th>\n      <td>36.0</td>\n      <td>207573.943155</td>\n    </tr>\n    <tr>\n      <th>36</th>\n      <td>37.0</td>\n      <td>207360.772812</td>\n    </tr>\n    <tr>\n      <th>37</th>\n      <td>38.0</td>\n      <td>193593.695431</td>\n    </tr>\n    <tr>\n      <th>38</th>\n      <td>39.0</td>\n      <td>208890.560976</td>\n    </tr>\n    <tr>\n      <th>39</th>\n      <td>40.0</td>\n      <td>208918.483553</td>\n    </tr>\n    <tr>\n      <th>40</th>\n      <td>41.0</td>\n      <td>197253.773649</td>\n    </tr>\n    <tr>\n      <th>41</th>\n      <td>42.0</td>\n      <td>198772.603261</td>\n    </tr>\n    <tr>\n      <th>42</th>\n      <td>43.0</td>\n      <td>193639.135977</td>\n    </tr>\n    <tr>\n      <th>43</th>\n      <td>44.0</td>\n      <td>216233.471910</td>\n    </tr>\n    <tr>\n      <th>44</th>\n      <td>45.0</td>\n      <td>217798.020408</td>\n    </tr>\n    <tr>\n      <th>45</th>\n      <td>46.0</td>\n      <td>200784.934694</td>\n    </tr>\n    <tr>\n      <th>46</th>\n      <td>47.0</td>\n      <td>190601.050505</td>\n    </tr>\n    <tr>\n      <th>47</th>\n      <td>48.0</td>\n      <td>222571.807910</td>\n    </tr>\n    <tr>\n      <th>48</th>\n      <td>49.0</td>\n      <td>220335.880597</td>\n    </tr>\n    <tr>\n      <th>49</th>\n      <td>50.0</td>\n      <td>217880.242647</td>\n    </tr>\n    <tr>\n      <th>50</th>\n      <td>51.0</td>\n      <td>227718.833333</td>\n    </tr>\n    <tr>\n      <th>51</th>\n      <td>52.0</td>\n      <td>275420.871170</td>\n    </tr>\n  </tbody>\n</table>\n</div>"
     },
     "execution_count": 7,
     "metadata": {},
     "output_type": "execute_result"
    }
   ],
   "source": [
    "# SQL query to find the average median house value for each housing median age\n",
    "query = \"\"\"\n",
    "SELECT\n",
    "    housing_median_age,\n",
    "    AVG(median_house_value) as Avg_Median_House_Value\n",
    "FROM\n",
    "    housing\n",
    "GROUP BY\n",
    "    housing_median_age\n",
    "ORDER BY\n",
    "    housing_median_age\n",
    "\"\"\"\n",
    "\n",
    "# Execute the query\n",
    "age_vs_value = pd.read_sql_query(query, conn)\n",
    "age_vs_value"
   ],
   "metadata": {
    "collapsed": false,
    "pycharm": {
     "name": "#%%\n"
    }
   }
  },
  {
   "cell_type": "markdown",
   "source": [
    "This SQL query calculates the average median house value for each value of housing median age. The GROUP BY statement is used to group rows that have the same values in specified columns into aggregated data. The AVG function is then applied to each group. The ORDER BY clause is used to sort the result."
   ],
   "metadata": {
    "collapsed": false
   }
  },
  {
   "cell_type": "code",
   "execution_count": 10,
   "outputs": [
    {
     "data": {
      "text/plain": "  income_category  Median_Total_Rooms\n0       Very High         3238.823863\n1            High         2697.768104\n2          Medium         2167.006686\n3             Low         1440.203163",
      "text/html": "<div>\n<style scoped>\n    .dataframe tbody tr th:only-of-type {\n        vertical-align: middle;\n    }\n\n    .dataframe tbody tr th {\n        vertical-align: top;\n    }\n\n    .dataframe thead th {\n        text-align: right;\n    }\n</style>\n<table border=\"1\" class=\"dataframe\">\n  <thead>\n    <tr style=\"text-align: right;\">\n      <th></th>\n      <th>income_category</th>\n      <th>Median_Total_Rooms</th>\n    </tr>\n  </thead>\n  <tbody>\n    <tr>\n      <th>0</th>\n      <td>Very High</td>\n      <td>3238.823863</td>\n    </tr>\n    <tr>\n      <th>1</th>\n      <td>High</td>\n      <td>2697.768104</td>\n    </tr>\n    <tr>\n      <th>2</th>\n      <td>Medium</td>\n      <td>2167.006686</td>\n    </tr>\n    <tr>\n      <th>3</th>\n      <td>Low</td>\n      <td>1440.203163</td>\n    </tr>\n  </tbody>\n</table>\n</div>"
     },
     "execution_count": 10,
     "metadata": {},
     "output_type": "execute_result"
    }
   ],
   "source": [
    "# SQL query to find the median number of total rooms for each income category\n",
    "query = \"\"\"\n",
    "SELECT\n",
    "    CASE\n",
    "        WHEN median_income <= 1.5 THEN 'Low'\n",
    "        WHEN median_income > 1.5 AND median_income <= 3.0 THEN 'Medium'\n",
    "        WHEN median_income > 3.0 AND median_income <= 4.5 THEN 'High'\n",
    "        ELSE 'Very High'\n",
    "    END AS income_category,\n",
    "    AVG(total_rooms) as Median_Total_Rooms\n",
    "FROM\n",
    "    housing\n",
    "GROUP BY\n",
    "    income_category\n",
    "ORDER BY\n",
    "    Median_Total_Rooms DESC\n",
    "\"\"\"\n",
    "\n",
    "# Execute the query\n",
    "income_vs_rooms = pd.read_sql_query(query, conn)\n",
    "income_vs_rooms"
   ],
   "metadata": {
    "collapsed": false,
    "pycharm": {
     "name": "#%%\n"
    }
   }
  },
  {
   "cell_type": "markdown",
   "source": [
    "In this SQL query, we use the CASE statement to create income categories based on the 'median_income' column. Then, we group by the income category and find the average of 'total_rooms' in each category. Finally, we sort the result in descending order by the average number of total rooms."
   ],
   "metadata": {
    "collapsed": false
   }
  },
  {
   "cell_type": "code",
   "execution_count": 11,
   "outputs": [
    {
     "data": {
      "text/plain": "    latitude  longitude  median_income\n0      37.81    -122.29         0.4999\n1      37.74    -121.96        15.0001\n2      36.09    -119.99         0.4999\n3      39.42    -122.89         0.4999\n4      34.10    -118.37        15.0001\n..       ...        ...            ...\n56     37.19    -121.59        15.0001\n57     37.13    -121.96        15.0001\n58     37.65    -121.01         0.4999\n59     40.43    -123.32         0.4999\n60     38.07    -120.19         0.4999\n\n[61 rows x 3 columns]",
      "text/html": "<div>\n<style scoped>\n    .dataframe tbody tr th:only-of-type {\n        vertical-align: middle;\n    }\n\n    .dataframe tbody tr th {\n        vertical-align: top;\n    }\n\n    .dataframe thead th {\n        text-align: right;\n    }\n</style>\n<table border=\"1\" class=\"dataframe\">\n  <thead>\n    <tr style=\"text-align: right;\">\n      <th></th>\n      <th>latitude</th>\n      <th>longitude</th>\n      <th>median_income</th>\n    </tr>\n  </thead>\n  <tbody>\n    <tr>\n      <th>0</th>\n      <td>37.81</td>\n      <td>-122.29</td>\n      <td>0.4999</td>\n    </tr>\n    <tr>\n      <th>1</th>\n      <td>37.74</td>\n      <td>-121.96</td>\n      <td>15.0001</td>\n    </tr>\n    <tr>\n      <th>2</th>\n      <td>36.09</td>\n      <td>-119.99</td>\n      <td>0.4999</td>\n    </tr>\n    <tr>\n      <th>3</th>\n      <td>39.42</td>\n      <td>-122.89</td>\n      <td>0.4999</td>\n    </tr>\n    <tr>\n      <th>4</th>\n      <td>34.10</td>\n      <td>-118.37</td>\n      <td>15.0001</td>\n    </tr>\n    <tr>\n      <th>...</th>\n      <td>...</td>\n      <td>...</td>\n      <td>...</td>\n    </tr>\n    <tr>\n      <th>56</th>\n      <td>37.19</td>\n      <td>-121.59</td>\n      <td>15.0001</td>\n    </tr>\n    <tr>\n      <th>57</th>\n      <td>37.13</td>\n      <td>-121.96</td>\n      <td>15.0001</td>\n    </tr>\n    <tr>\n      <th>58</th>\n      <td>37.65</td>\n      <td>-121.01</td>\n      <td>0.4999</td>\n    </tr>\n    <tr>\n      <th>59</th>\n      <td>40.43</td>\n      <td>-123.32</td>\n      <td>0.4999</td>\n    </tr>\n    <tr>\n      <th>60</th>\n      <td>38.07</td>\n      <td>-120.19</td>\n      <td>0.4999</td>\n    </tr>\n  </tbody>\n</table>\n<p>61 rows × 3 columns</p>\n</div>"
     },
     "execution_count": 11,
     "metadata": {},
     "output_type": "execute_result"
    }
   ],
   "source": [
    "# SQL query to find the area with the highest and lowest median income\n",
    "query = \"\"\"\n",
    "SELECT\n",
    "    latitude,\n",
    "    longitude,\n",
    "    median_income\n",
    "FROM\n",
    "    housing\n",
    "WHERE\n",
    "    median_income = (SELECT MAX(median_income) FROM housing)\n",
    "    OR median_income = (SELECT MIN(median_income) FROM housing)\n",
    "\"\"\"\n",
    "\n",
    "# Execute the query\n",
    "extreme_income_areas = pd.read_sql_query(query, conn)\n",
    "extreme_income_areas"
   ],
   "metadata": {
    "collapsed": false,
    "pycharm": {
     "name": "#%%\n"
    }
   }
  },
  {
   "cell_type": "markdown",
   "source": [
    "This SQL query finds the areas (latitude, longitude) with the highest and lowest median income. We use subqueries to find the maximum and minimum 'median_income', and get the corresponding 'latitude' and 'longitude'."
   ],
   "metadata": {
    "collapsed": false
   }
  },
  {
   "cell_type": "code",
   "execution_count": 12,
   "outputs": [
    {
     "data": {
      "text/plain": "   latitude  longitude  Average_Median_House_Value\n0     32.68    -117.18                    500001.0\n1     32.71    -117.24                    500001.0\n2     32.76    -117.19                    500001.0\n3     32.81    -117.29                    500001.0\n4     32.82    -117.31                    500001.0\n5     32.82    -117.26                    500001.0\n6     32.83    -117.31                    500001.0\n7     32.83    -117.26                    500001.0\n8     32.83    -117.25                    500001.0\n9     32.84    -117.25                    500001.0",
      "text/html": "<div>\n<style scoped>\n    .dataframe tbody tr th:only-of-type {\n        vertical-align: middle;\n    }\n\n    .dataframe tbody tr th {\n        vertical-align: top;\n    }\n\n    .dataframe thead th {\n        text-align: right;\n    }\n</style>\n<table border=\"1\" class=\"dataframe\">\n  <thead>\n    <tr style=\"text-align: right;\">\n      <th></th>\n      <th>latitude</th>\n      <th>longitude</th>\n      <th>Average_Median_House_Value</th>\n    </tr>\n  </thead>\n  <tbody>\n    <tr>\n      <th>0</th>\n      <td>32.68</td>\n      <td>-117.18</td>\n      <td>500001.0</td>\n    </tr>\n    <tr>\n      <th>1</th>\n      <td>32.71</td>\n      <td>-117.24</td>\n      <td>500001.0</td>\n    </tr>\n    <tr>\n      <th>2</th>\n      <td>32.76</td>\n      <td>-117.19</td>\n      <td>500001.0</td>\n    </tr>\n    <tr>\n      <th>3</th>\n      <td>32.81</td>\n      <td>-117.29</td>\n      <td>500001.0</td>\n    </tr>\n    <tr>\n      <th>4</th>\n      <td>32.82</td>\n      <td>-117.31</td>\n      <td>500001.0</td>\n    </tr>\n    <tr>\n      <th>5</th>\n      <td>32.82</td>\n      <td>-117.26</td>\n      <td>500001.0</td>\n    </tr>\n    <tr>\n      <th>6</th>\n      <td>32.83</td>\n      <td>-117.31</td>\n      <td>500001.0</td>\n    </tr>\n    <tr>\n      <th>7</th>\n      <td>32.83</td>\n      <td>-117.26</td>\n      <td>500001.0</td>\n    </tr>\n    <tr>\n      <th>8</th>\n      <td>32.83</td>\n      <td>-117.25</td>\n      <td>500001.0</td>\n    </tr>\n    <tr>\n      <th>9</th>\n      <td>32.84</td>\n      <td>-117.25</td>\n      <td>500001.0</td>\n    </tr>\n  </tbody>\n</table>\n</div>"
     },
     "execution_count": 12,
     "metadata": {},
     "output_type": "execute_result"
    }
   ],
   "source": [
    "# SQL query to find the median house value per latitude and longitude\n",
    "query = \"\"\"\n",
    "SELECT\n",
    "    latitude,\n",
    "    longitude,\n",
    "    AVG(median_house_value) as Average_Median_House_Value\n",
    "FROM\n",
    "    housing\n",
    "GROUP BY\n",
    "    latitude, longitude\n",
    "ORDER BY\n",
    "    Average_Median_House_Value DESC\n",
    "LIMIT 10\n",
    "\"\"\"\n",
    "\n",
    "# Execute the query\n",
    "geo_value = pd.read_sql_query(query, conn)\n",
    "geo_value"
   ],
   "metadata": {
    "collapsed": false,
    "pycharm": {
     "name": "#%%\n"
    }
   }
  },
  {
   "cell_type": "markdown",
   "source": [
    "This SQL query calculates the average median house value for each geographic location (latitude and longitude). We use the GROUP BY statement to group rows that have the same geographic location. Then, we sort the result in descending order by the average median house value. We also use the LIMIT clause to limit the output to the top 10 results."
   ],
   "metadata": {
    "collapsed": false
   }
  },
  {
   "cell_type": "code",
   "execution_count": 13,
   "outputs": [
    {
     "data": {
      "text/plain": "    housing_median_age  Number_of_entries\n0                 52.0               1273\n1                 36.0                862\n2                 35.0                824\n3                 16.0                771\n4                 17.0                698\n5                 34.0                689\n6                 26.0                619\n7                 33.0                615\n8                 18.0                570\n9                 25.0                566\n10                32.0                565\n11                37.0                537\n12                15.0                512\n13                19.0                502\n14                27.0                488\n15                24.0                478\n16                30.0                476\n17                28.0                471\n18                20.0                465\n19                29.0                461\n20                31.0                458\n21                23.0                448\n22                21.0                446\n23                14.0                412\n24                22.0                399\n25                38.0                394\n26                39.0                369\n27                42.0                368\n28                44.0                356\n29                43.0                353\n30                40.0                304\n31                13.0                302\n32                41.0                296\n33                45.0                294\n34                10.0                264\n35                11.0                254\n36                46.0                245\n37                 5.0                244\n38                12.0                238\n39                 8.0                206\n40                 9.0                205\n41                47.0                198\n42                 4.0                191\n43                48.0                177\n44                 7.0                175\n45                 6.0                160\n46                50.0                136\n47                49.0                134\n48                 3.0                 62\n49                 2.0                 58\n50                51.0                 48\n51                 1.0                  4",
      "text/html": "<div>\n<style scoped>\n    .dataframe tbody tr th:only-of-type {\n        vertical-align: middle;\n    }\n\n    .dataframe tbody tr th {\n        vertical-align: top;\n    }\n\n    .dataframe thead th {\n        text-align: right;\n    }\n</style>\n<table border=\"1\" class=\"dataframe\">\n  <thead>\n    <tr style=\"text-align: right;\">\n      <th></th>\n      <th>housing_median_age</th>\n      <th>Number_of_entries</th>\n    </tr>\n  </thead>\n  <tbody>\n    <tr>\n      <th>0</th>\n      <td>52.0</td>\n      <td>1273</td>\n    </tr>\n    <tr>\n      <th>1</th>\n      <td>36.0</td>\n      <td>862</td>\n    </tr>\n    <tr>\n      <th>2</th>\n      <td>35.0</td>\n      <td>824</td>\n    </tr>\n    <tr>\n      <th>3</th>\n      <td>16.0</td>\n      <td>771</td>\n    </tr>\n    <tr>\n      <th>4</th>\n      <td>17.0</td>\n      <td>698</td>\n    </tr>\n    <tr>\n      <th>5</th>\n      <td>34.0</td>\n      <td>689</td>\n    </tr>\n    <tr>\n      <th>6</th>\n      <td>26.0</td>\n      <td>619</td>\n    </tr>\n    <tr>\n      <th>7</th>\n      <td>33.0</td>\n      <td>615</td>\n    </tr>\n    <tr>\n      <th>8</th>\n      <td>18.0</td>\n      <td>570</td>\n    </tr>\n    <tr>\n      <th>9</th>\n      <td>25.0</td>\n      <td>566</td>\n    </tr>\n    <tr>\n      <th>10</th>\n      <td>32.0</td>\n      <td>565</td>\n    </tr>\n    <tr>\n      <th>11</th>\n      <td>37.0</td>\n      <td>537</td>\n    </tr>\n    <tr>\n      <th>12</th>\n      <td>15.0</td>\n      <td>512</td>\n    </tr>\n    <tr>\n      <th>13</th>\n      <td>19.0</td>\n      <td>502</td>\n    </tr>\n    <tr>\n      <th>14</th>\n      <td>27.0</td>\n      <td>488</td>\n    </tr>\n    <tr>\n      <th>15</th>\n      <td>24.0</td>\n      <td>478</td>\n    </tr>\n    <tr>\n      <th>16</th>\n      <td>30.0</td>\n      <td>476</td>\n    </tr>\n    <tr>\n      <th>17</th>\n      <td>28.0</td>\n      <td>471</td>\n    </tr>\n    <tr>\n      <th>18</th>\n      <td>20.0</td>\n      <td>465</td>\n    </tr>\n    <tr>\n      <th>19</th>\n      <td>29.0</td>\n      <td>461</td>\n    </tr>\n    <tr>\n      <th>20</th>\n      <td>31.0</td>\n      <td>458</td>\n    </tr>\n    <tr>\n      <th>21</th>\n      <td>23.0</td>\n      <td>448</td>\n    </tr>\n    <tr>\n      <th>22</th>\n      <td>21.0</td>\n      <td>446</td>\n    </tr>\n    <tr>\n      <th>23</th>\n      <td>14.0</td>\n      <td>412</td>\n    </tr>\n    <tr>\n      <th>24</th>\n      <td>22.0</td>\n      <td>399</td>\n    </tr>\n    <tr>\n      <th>25</th>\n      <td>38.0</td>\n      <td>394</td>\n    </tr>\n    <tr>\n      <th>26</th>\n      <td>39.0</td>\n      <td>369</td>\n    </tr>\n    <tr>\n      <th>27</th>\n      <td>42.0</td>\n      <td>368</td>\n    </tr>\n    <tr>\n      <th>28</th>\n      <td>44.0</td>\n      <td>356</td>\n    </tr>\n    <tr>\n      <th>29</th>\n      <td>43.0</td>\n      <td>353</td>\n    </tr>\n    <tr>\n      <th>30</th>\n      <td>40.0</td>\n      <td>304</td>\n    </tr>\n    <tr>\n      <th>31</th>\n      <td>13.0</td>\n      <td>302</td>\n    </tr>\n    <tr>\n      <th>32</th>\n      <td>41.0</td>\n      <td>296</td>\n    </tr>\n    <tr>\n      <th>33</th>\n      <td>45.0</td>\n      <td>294</td>\n    </tr>\n    <tr>\n      <th>34</th>\n      <td>10.0</td>\n      <td>264</td>\n    </tr>\n    <tr>\n      <th>35</th>\n      <td>11.0</td>\n      <td>254</td>\n    </tr>\n    <tr>\n      <th>36</th>\n      <td>46.0</td>\n      <td>245</td>\n    </tr>\n    <tr>\n      <th>37</th>\n      <td>5.0</td>\n      <td>244</td>\n    </tr>\n    <tr>\n      <th>38</th>\n      <td>12.0</td>\n      <td>238</td>\n    </tr>\n    <tr>\n      <th>39</th>\n      <td>8.0</td>\n      <td>206</td>\n    </tr>\n    <tr>\n      <th>40</th>\n      <td>9.0</td>\n      <td>205</td>\n    </tr>\n    <tr>\n      <th>41</th>\n      <td>47.0</td>\n      <td>198</td>\n    </tr>\n    <tr>\n      <th>42</th>\n      <td>4.0</td>\n      <td>191</td>\n    </tr>\n    <tr>\n      <th>43</th>\n      <td>48.0</td>\n      <td>177</td>\n    </tr>\n    <tr>\n      <th>44</th>\n      <td>7.0</td>\n      <td>175</td>\n    </tr>\n    <tr>\n      <th>45</th>\n      <td>6.0</td>\n      <td>160</td>\n    </tr>\n    <tr>\n      <th>46</th>\n      <td>50.0</td>\n      <td>136</td>\n    </tr>\n    <tr>\n      <th>47</th>\n      <td>49.0</td>\n      <td>134</td>\n    </tr>\n    <tr>\n      <th>48</th>\n      <td>3.0</td>\n      <td>62</td>\n    </tr>\n    <tr>\n      <th>49</th>\n      <td>2.0</td>\n      <td>58</td>\n    </tr>\n    <tr>\n      <th>50</th>\n      <td>51.0</td>\n      <td>48</td>\n    </tr>\n    <tr>\n      <th>51</th>\n      <td>1.0</td>\n      <td>4</td>\n    </tr>\n  </tbody>\n</table>\n</div>"
     },
     "execution_count": 13,
     "metadata": {},
     "output_type": "execute_result"
    }
   ],
   "source": [
    "# SQL query to find the number of entries for each unique value of housing median age\n",
    "query = \"\"\"\n",
    "SELECT\n",
    "    housing_median_age,\n",
    "    COUNT(*) as Number_of_entries\n",
    "FROM\n",
    "    housing\n",
    "GROUP BY\n",
    "    housing_median_age\n",
    "ORDER BY\n",
    "    Number_of_entries DESC\n",
    "\"\"\"\n",
    "\n",
    "# Execute the query\n",
    "age_entries = pd.read_sql_query(query, conn)\n",
    "age_entries"
   ],
   "metadata": {
    "collapsed": false,
    "pycharm": {
     "name": "#%%\n"
    }
   }
  },
  {
   "cell_type": "markdown",
   "source": [
    "In this SQL query, we use the COUNT function to calculate the number of entries for each unique value of 'housing_median_age'. We use the GROUP BY statement to group rows that have the same value of 'housing_median_age'. Finally, we sort the result in descending order by the number of entries."
   ],
   "metadata": {
    "collapsed": false
   }
  },
  {
   "cell_type": "code",
   "execution_count": 14,
   "outputs": [
    {
     "data": {
      "text/plain": "  age_group  Average_Median_House_Value\n0       40+               228965.009025\n1     20-30               206801.590478\n2     30-40               206662.165747\n3      0-10               200263.254939\n4     10-20               191181.627223",
      "text/html": "<div>\n<style scoped>\n    .dataframe tbody tr th:only-of-type {\n        vertical-align: middle;\n    }\n\n    .dataframe tbody tr th {\n        vertical-align: top;\n    }\n\n    .dataframe thead th {\n        text-align: right;\n    }\n</style>\n<table border=\"1\" class=\"dataframe\">\n  <thead>\n    <tr style=\"text-align: right;\">\n      <th></th>\n      <th>age_group</th>\n      <th>Average_Median_House_Value</th>\n    </tr>\n  </thead>\n  <tbody>\n    <tr>\n      <th>0</th>\n      <td>40+</td>\n      <td>228965.009025</td>\n    </tr>\n    <tr>\n      <th>1</th>\n      <td>20-30</td>\n      <td>206801.590478</td>\n    </tr>\n    <tr>\n      <th>2</th>\n      <td>30-40</td>\n      <td>206662.165747</td>\n    </tr>\n    <tr>\n      <th>3</th>\n      <td>0-10</td>\n      <td>200263.254939</td>\n    </tr>\n    <tr>\n      <th>4</th>\n      <td>10-20</td>\n      <td>191181.627223</td>\n    </tr>\n  </tbody>\n</table>\n</div>"
     },
     "execution_count": 14,
     "metadata": {},
     "output_type": "execute_result"
    }
   ],
   "source": [
    "# SQL query to find the distribution of median house values across different age groups\n",
    "query = \"\"\"\n",
    "SELECT\n",
    "    CASE\n",
    "        WHEN housing_median_age <= 10 THEN '0-10'\n",
    "        WHEN housing_median_age > 10 AND housing_median_age <= 20 THEN '10-20'\n",
    "        WHEN housing_median_age > 20 AND housing_median_age <= 30 THEN '20-30'\n",
    "        WHEN housing_median_age > 30 AND housing_median_age <= 40 THEN '30-40'\n",
    "        ELSE '40+'\n",
    "    END AS age_group,\n",
    "    AVG(median_house_value) as Average_Median_House_Value\n",
    "FROM\n",
    "    housing\n",
    "GROUP BY\n",
    "    age_group\n",
    "ORDER BY\n",
    "    Average_Median_House_Value DESC\n",
    "\"\"\"\n",
    "\n",
    "# Execute the query\n",
    "age_value_distribution = pd.read_sql_query(query, conn)\n",
    "age_value_distribution"
   ],
   "metadata": {
    "collapsed": false,
    "pycharm": {
     "name": "#%%\n"
    }
   }
  },
  {
   "cell_type": "markdown",
   "source": [
    "In this SQL query, we use the CASE statement to divide the houses into age groups. Then, we calculate the average median house value for each age group, group the results by the age group, and order by the average median house value in descending order."
   ],
   "metadata": {
    "collapsed": false
   }
  },
  {
   "cell_type": "code",
   "execution_count": 15,
   "outputs": [
    {
     "data": {
      "text/plain": "  income_group  Average_Median_House_Value\n0         High               283783.597255\n1       Medium               168199.345880\n2          Low               112497.156695",
      "text/html": "<div>\n<style scoped>\n    .dataframe tbody tr th:only-of-type {\n        vertical-align: middle;\n    }\n\n    .dataframe tbody tr th {\n        vertical-align: top;\n    }\n\n    .dataframe thead th {\n        text-align: right;\n    }\n</style>\n<table border=\"1\" class=\"dataframe\">\n  <thead>\n    <tr style=\"text-align: right;\">\n      <th></th>\n      <th>income_group</th>\n      <th>Average_Median_House_Value</th>\n    </tr>\n  </thead>\n  <tbody>\n    <tr>\n      <th>0</th>\n      <td>High</td>\n      <td>283783.597255</td>\n    </tr>\n    <tr>\n      <th>1</th>\n      <td>Medium</td>\n      <td>168199.345880</td>\n    </tr>\n    <tr>\n      <th>2</th>\n      <td>Low</td>\n      <td>112497.156695</td>\n    </tr>\n  </tbody>\n</table>\n</div>"
     },
     "execution_count": 15,
     "metadata": {},
     "output_type": "execute_result"
    }
   ],
   "source": [
    "# SQL query to find the median house value for different income groups\n",
    "query = \"\"\"\n",
    "SELECT\n",
    "    CASE\n",
    "        WHEN median_income <= 2 THEN 'Low'\n",
    "        WHEN median_income > 2 AND median_income <= 4 THEN 'Medium'\n",
    "        ELSE 'High'\n",
    "    END AS income_group,\n",
    "    AVG(median_house_value) as Average_Median_House_Value\n",
    "FROM\n",
    "    housing\n",
    "GROUP BY\n",
    "    income_group\n",
    "ORDER BY\n",
    "    Average_Median_House_Value DESC\n",
    "\"\"\"\n",
    "\n",
    "# Execute the query\n",
    "income_value_distribution = pd.read_sql_query(query, conn)\n",
    "income_value_distribution"
   ],
   "metadata": {
    "collapsed": false,
    "pycharm": {
     "name": "#%%\n"
    }
   }
  },
  {
   "cell_type": "markdown",
   "source": [
    "In this SQL query, we use the CASE statement to divide the dataset into income groups. Then, we calculate the average median house value for each income group, group the results by the income group, and order by the average median house value in descending order."
   ],
   "metadata": {
    "collapsed": false
   }
  },
  {
   "cell_type": "code",
   "execution_count": 17,
   "outputs": [
    {
     "data": {
      "text/plain": "  rooms_group  Average_Median_House_Value\n0          6+               206866.535565\n1         0-2               137500.000000\n2         4-6                55000.000000",
      "text/html": "<div>\n<style scoped>\n    .dataframe tbody tr th:only-of-type {\n        vertical-align: middle;\n    }\n\n    .dataframe tbody tr th {\n        vertical-align: top;\n    }\n\n    .dataframe thead th {\n        text-align: right;\n    }\n</style>\n<table border=\"1\" class=\"dataframe\">\n  <thead>\n    <tr style=\"text-align: right;\">\n      <th></th>\n      <th>rooms_group</th>\n      <th>Average_Median_House_Value</th>\n    </tr>\n  </thead>\n  <tbody>\n    <tr>\n      <th>0</th>\n      <td>6+</td>\n      <td>206866.535565</td>\n    </tr>\n    <tr>\n      <th>1</th>\n      <td>0-2</td>\n      <td>137500.000000</td>\n    </tr>\n    <tr>\n      <th>2</th>\n      <td>4-6</td>\n      <td>55000.000000</td>\n    </tr>\n  </tbody>\n</table>\n</div>"
     },
     "execution_count": 17,
     "metadata": {},
     "output_type": "execute_result"
    }
   ],
   "source": [
    "# SQL query to find the average median_house_value for different groups of total_rooms\n",
    "query = \"\"\"\n",
    "SELECT\n",
    "    CASE\n",
    "        WHEN total_rooms <= 2 THEN '0-2'\n",
    "        WHEN total_rooms > 2 AND total_rooms <= 4 THEN '2-4'\n",
    "        WHEN total_rooms > 4 AND total_rooms <= 6 THEN '4-6'\n",
    "        ELSE '6+'\n",
    "    END AS rooms_group,\n",
    "    AVG(median_house_value) as Average_Median_House_Value\n",
    "FROM\n",
    "    housing\n",
    "GROUP BY\n",
    "    rooms_group\n",
    "ORDER BY\n",
    "    Average_Median_House_Value DESC\n",
    "\"\"\"\n",
    "\n",
    "# Execute the query\n",
    "rooms_value_distribution = pd.read_sql_query(query, conn)\n",
    "rooms_value_distribution"
   ],
   "metadata": {
    "collapsed": false,
    "pycharm": {
     "name": "#%%\n"
    }
   }
  },
  {
   "cell_type": "markdown",
   "source": [
    "In this SQL query, we use the CASE statement to divide the dataset into groups based on the number of total rooms. Then, we calculate the average median house value for each group, group the results by the number of rooms, and order by the average median house value in descending order."
   ],
   "metadata": {
    "collapsed": false
   }
  },
  {
   "cell_type": "markdown",
   "source": [
    "# Summary\n",
    "Throughout this notebook, we have performed an exploratory analysis of the California housing dataset using SQL queries in Python. We started by loading the data into a SQLite database, which allowed us to run SQL queries directly from our Python environment.\n",
    "\n",
    "We've used a variety of SQL queries to gain insights about our data, including:\n",
    "\n",
    "- Basic queries to inspect the structure and content of the dataset.\n",
    "- Queries that use aggregate functions like COUNT and AVG to compute statistics about the data.\n",
    "- Queries that use grouping and ordering to segment the data and reveal trends.\n",
    "- A query that uses the correlation function to find the relationship between two features.\n",
    "\n",
    "These queries helped us understand the underlying structure of our data, and allowed us to answer several business-oriented questions. The insights gained from this exploratory analysis can be used to guide further data processing and modeling."
   ],
   "metadata": {
    "collapsed": false
   }
  },
  {
   "cell_type": "markdown",
   "source": [
    "# Business Summary\n",
    "The results of this analysis can provide valuable insights for investors in the Californian real estate market. For example, we have noticed that houses in different income groups and age groups have different median values. These differences can influence investment strategies, such as investing in properties in specific income or age groups.\n",
    "\n",
    "Our exploration also revealed the average house values across different groups of total rooms. These insights can suggest how property characteristics such as the number of rooms might influence their value, and can be particularly useful for real estate developers when planning new builds.\n",
    "\n",
    "In summary, an analysis like this, conducted at the start of a data-related project, is necessary to gain a thorough understanding of the data and how it can be used to obtain business value. In the following notebooks, we will continue the data processing and modeling process, keeping these initial findings in mind."
   ],
   "metadata": {
    "collapsed": false,
    "pycharm": {
     "name": "#%% md\n"
    }
   }
  }
 ],
 "metadata": {
  "kernelspec": {
   "display_name": "Python 3",
   "language": "python",
   "name": "python3"
  },
  "language_info": {
   "codemirror_mode": {
    "name": "ipython",
    "version": 2
   },
   "file_extension": ".py",
   "mimetype": "text/x-python",
   "name": "python",
   "nbconvert_exporter": "python",
   "pygments_lexer": "ipython2",
   "version": "2.7.6"
  }
 },
 "nbformat": 4,
 "nbformat_minor": 0
}