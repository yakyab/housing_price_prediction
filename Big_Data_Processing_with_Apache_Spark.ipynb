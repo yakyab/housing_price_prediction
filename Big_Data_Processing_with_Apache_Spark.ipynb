{
 "cells": [
  {
   "cell_type": "markdown",
   "source": [
    "# Data Cleaning and Preprocessing\n",
    "In this notebook, we focus on the data cleaning and preprocessing stages of our project. We will handle missing values, outliers, and categorical variables in our dataset. We will use a combination of Pandas library for initial data processing and the Spark DataFrame API for scalable data transformation and processing."
   ],
   "metadata": {
    "collapsed": false
   }
  },
  {
   "cell_type": "markdown",
   "source": [
    "## Loading the data"
   ],
   "metadata": {
    "collapsed": false
   }
  },
  {
   "cell_type": "code",
   "execution_count": 1,
   "metadata": {
    "collapsed": true
   },
   "outputs": [],
   "source": [
    "from pyspark.sql import SparkSession\n",
    "\n",
    "# Initialize Spark Session\n",
    "spark = SparkSession.builder.appName(\"HousingDataAnalysis\").getOrCreate()\n",
    "\n",
    "# Load data into Spark DataFrame\n",
    "df = spark.read.format(\"csv\").option(\"header\",\"true\").option(\"inferSchema\", \"true\").load(\"housing.csv\")"
   ]
  },
  {
   "cell_type": "markdown",
   "source": [
    "In the above code, we initialize a Spark Session and load our dataset into a Spark DataFrame."
   ],
   "metadata": {
    "collapsed": false
   }
  },
  {
   "cell_type": "markdown",
   "source": [
    "## Initial Data Inspection"
   ],
   "metadata": {
    "collapsed": false
   }
  },
  {
   "cell_type": "code",
   "execution_count": 2,
   "outputs": [
    {
     "name": "stdout",
     "output_type": "stream",
     "text": [
      "+---------+--------+------------------+-----------+--------------+----------+----------+-------------+------------------+---------------+\n",
      "|longitude|latitude|housing_median_age|total_rooms|total_bedrooms|population|households|median_income|median_house_value|ocean_proximity|\n",
      "+---------+--------+------------------+-----------+--------------+----------+----------+-------------+------------------+---------------+\n",
      "|  -122.23|   37.88|              41.0|      880.0|         129.0|     322.0|     126.0|       8.3252|          452600.0|       NEAR BAY|\n",
      "|  -122.22|   37.86|              21.0|     7099.0|        1106.0|    2401.0|    1138.0|       8.3014|          358500.0|       NEAR BAY|\n",
      "|  -122.24|   37.85|              52.0|     1467.0|         190.0|     496.0|     177.0|       7.2574|          352100.0|       NEAR BAY|\n",
      "|  -122.25|   37.85|              52.0|     1274.0|         235.0|     558.0|     219.0|       5.6431|          341300.0|       NEAR BAY|\n",
      "|  -122.25|   37.85|              52.0|     1627.0|         280.0|     565.0|     259.0|       3.8462|          342200.0|       NEAR BAY|\n",
      "+---------+--------+------------------+-----------+--------------+----------+----------+-------------+------------------+---------------+\n",
      "only showing top 5 rows\n",
      "\n",
      "root\n",
      " |-- longitude: double (nullable = true)\n",
      " |-- latitude: double (nullable = true)\n",
      " |-- housing_median_age: double (nullable = true)\n",
      " |-- total_rooms: double (nullable = true)\n",
      " |-- total_bedrooms: double (nullable = true)\n",
      " |-- population: double (nullable = true)\n",
      " |-- households: double (nullable = true)\n",
      " |-- median_income: double (nullable = true)\n",
      " |-- median_house_value: double (nullable = true)\n",
      " |-- ocean_proximity: string (nullable = true)\n",
      "\n"
     ]
    }
   ],
   "source": [
    "# Display the first few rows of the DataFrame\n",
    "df.show(5)\n",
    "\n",
    "# Print the schema of the DataFrame\n",
    "df.printSchema()"
   ],
   "metadata": {
    "collapsed": false,
    "pycharm": {
     "name": "#%%\n"
    }
   }
  },
  {
   "cell_type": "markdown",
   "source": [
    "The above code snippets display the first few rows of the DataFrame and print out the schema of our data, which allows us to see the data types for each column."
   ],
   "metadata": {
    "collapsed": false
   }
  },
  {
   "cell_type": "markdown",
   "source": [
    "## Processing"
   ],
   "metadata": {
    "collapsed": false
   }
  },
  {
   "cell_type": "code",
   "execution_count": 3,
   "outputs": [],
   "source": [
    "# Get numerical column names only\n",
    "numerical_columns = [t[0] for t in df.dtypes if t[1] == 'int' or t[1] == 'double']\n",
    "\n",
    "# Replace null values with the median\n",
    "for col_name in numerical_columns:\n",
    "    median_value = df.stat.approxQuantile(col_name, [0.5], 0.25)\n",
    "    df = df.fillna(median_value[0], subset=[col_name])"
   ],
   "metadata": {
    "collapsed": false,
    "pycharm": {
     "name": "#%%\n"
    }
   }
  },
  {
   "cell_type": "markdown",
   "source": [
    "To deal with missing values in our dataset, we're going to replace them with the median of the respective columns. We're choosing the median because it's a robust measure that is not as influenced by outliers as the mean.\n",
    "\n",
    "To do this, we first create a list of the numerical columns in our DataFrame. Then, we iterate through these columns, computing the median (using the `approxQuantile` function) and replacing any null values with this median.\n",
    "\n",
    "Note that the `approxQuantile` function takes three parameters: the column name, a list of quantile probabilities, and a relative error. Here, we set the quantile probability to 0.5 to compute the median, and the relative error to 0.25. The relative error parameter is used for performance tuning, with a higher value offering better performance but less accuracy.\n",
    "\n",
    "Also note that we're only doing this for numerical columns. This is because calculating the median for categorical or string columns is not meaningful. For these types of columns, a different strategy would be needed, such as replacing nulls with the most frequent category.\n"
   ],
   "metadata": {
    "collapsed": false
   }
  },
  {
   "cell_type": "code",
   "execution_count": 4,
   "outputs": [],
   "source": [
    "# Remove outliers using the interquartile range\n",
    "cols = ['median_income', 'housing_median_age', 'total_rooms', 'total_bedrooms',\n",
    "        'population', 'households', 'median_house_value']\n",
    "for col_name in cols:\n",
    "    quantiles = df.stat.approxQuantile(col_name, [0.25, 0.75], 0.05)\n",
    "    IQR = quantiles[1] - quantiles[0]\n",
    "    bounds = [quantiles[0] - 1.5 * IQR, quantiles[1] + 1.5 * IQR]\n",
    "    df = df.where((df[col_name] >= bounds[0]) & (df[col_name] <= bounds[1]))"
   ],
   "metadata": {
    "collapsed": false,
    "pycharm": {
     "name": "#%%\n"
    }
   }
  },
  {
   "cell_type": "markdown",
   "source": [
    "In the second step, we handle outliers, which can skew our analysis and model predictions. To remove outliers, we use the interquartile range (IQR) method. This method considers values to be outliers if they are 1.5*IQR less than the first quartile or 1.5*IQR greater than the third quartile. The `approxQuantile` function is used to calculate the quartiles, and the `where` function is used to filter out the outliers."
   ],
   "metadata": {
    "collapsed": false
   }
  },
  {
   "cell_type": "code",
   "execution_count": 5,
   "outputs": [],
   "source": [
    "from pyspark.sql.functions import col\n",
    "# Create new feature 'rooms_per_household'\n",
    "df = df.withColumn(\"rooms_per_household\", col(\"total_rooms\")/col(\"households\"))\n",
    "\n",
    "# Create new feature 'population_per_household'\n",
    "df = df.withColumn(\"population_per_household\", col(\"population\")/col(\"households\"))\n",
    "\n",
    "# Create new feature 'bedrooms_per_room'\n",
    "df = df.withColumn(\"bedrooms_per_room\", col(\"total_bedrooms\")/col(\"total_rooms\"))"
   ],
   "metadata": {
    "collapsed": false,
    "pycharm": {
     "name": "#%%\n"
    }
   }
  },
  {
   "cell_type": "markdown",
   "source": [
    "Next, we're going to create some new features that might help improve the performance of our future model. We're doing this by combining existing columns in ways that might better capture the underlying patterns in the data.\n",
    "\n",
    "- `rooms_per_household`: This feature represents the average number of rooms per household in a district. We calculate this by dividing the total number of rooms by the total number of households.\n",
    "\n",
    "- `population_per_household`: This feature represents the average population per household in a district. We calculate this by dividing the total population by the total number of households.\n",
    "\n",
    "- `bedrooms_per_room`: This feature represents the proportion of bedrooms among total rooms in a district. We calculate this by dividing the total number of bedrooms by the total number of rooms.\n",
    "\n",
    "We create these new features using the `withColumn` function, which creates a new DataFrame by adding a column or replacing the existing column that has the same name. The `col` function is used to select the columns to be operated on."
   ],
   "metadata": {
    "collapsed": false
   }
  },
  {
   "cell_type": "code",
   "execution_count": 6,
   "outputs": [
    {
     "name": "stdout",
     "output_type": "stream",
     "text": [
      "+---------+--------+------------------+-----------+--------------+----------+----------+-------------+------------------+---------------+-------------------+------------------------+-------------------+---------------------+\n",
      "|longitude|latitude|housing_median_age|total_rooms|total_bedrooms|population|households|median_income|median_house_value|ocean_proximity|rooms_per_household|population_per_household|  bedrooms_per_room|ocean_proximity_index|\n",
      "+---------+--------+------------------+-----------+--------------+----------+----------+-------------+------------------+---------------+-------------------+------------------------+-------------------+---------------------+\n",
      "|  -122.24|   37.85|              52.0|     1467.0|         190.0|     496.0|     177.0|       7.2574|          352100.0|       NEAR BAY|  8.288135593220339|      2.8022598870056497|0.12951601908657123|                  3.0|\n",
      "|  -122.25|   37.85|              52.0|     1274.0|         235.0|     558.0|     219.0|       5.6431|          341300.0|       NEAR BAY| 5.8173515981735155|       2.547945205479452|0.18445839874411302|                  3.0|\n",
      "|  -122.25|   37.85|              52.0|     1627.0|         280.0|     565.0|     259.0|       3.8462|          342200.0|       NEAR BAY|  6.281853281853282|      2.1814671814671813| 0.1720958819913952|                  3.0|\n",
      "|  -122.25|   37.85|              52.0|      919.0|         213.0|     413.0|     193.0|       4.0368|          269700.0|       NEAR BAY|  4.761658031088083|       2.139896373056995|0.23177366702937977|                  3.0|\n",
      "|  -122.25|   37.84|              52.0|     2535.0|         489.0|    1094.0|     514.0|       3.6591|          299200.0|       NEAR BAY| 4.9319066147859925|      2.1284046692607004|0.19289940828402366|                  3.0|\n",
      "+---------+--------+------------------+-----------+--------------+----------+----------+-------------+------------------+---------------+-------------------+------------------------+-------------------+---------------------+\n",
      "only showing top 5 rows\n",
      "\n"
     ]
    }
   ],
   "source": [
    "# Convert categorical feature 'ocean_proximity' to numerical using StringIndexer\n",
    "from pyspark.ml.feature import StringIndexer\n",
    "indexer = StringIndexer(inputCol=\"ocean_proximity\", outputCol=\"ocean_proximity_index\")\n",
    "df = indexer.fit(df).transform(df)\n",
    "\n",
    "df.show(5)"
   ],
   "metadata": {
    "collapsed": false,
    "pycharm": {
     "name": "#%%\n"
    }
   }
  },
  {
   "cell_type": "markdown",
   "source": [
    "Next, we handle categorical features. Machine learning algorithms require numerical input, so we need to convert categorical features to numerical. Here, we use the `StringIndexer` function to convert the 'ocean_proximity' column to numerical values. Each unique category in 'ocean_proximity' is mapped to a different number, creating a new 'ocean_proximity_index' column."
   ],
   "metadata": {
    "collapsed": false
   }
  },
  {
   "cell_type": "code",
   "execution_count": 7,
   "outputs": [
    {
     "name": "stdout",
     "output_type": "stream",
     "text": [
      "+---------------------------------------+\n",
      "|corr(median_house_value, median_income)|\n",
      "+---------------------------------------+\n",
      "|                     0.6289971929399653|\n",
      "+---------------------------------------+\n",
      "\n"
     ]
    }
   ],
   "source": [
    "from pyspark.sql.functions import corr\n",
    "\n",
    "# Calculate correlation between `median_house_value` and `median_income`\n",
    "df.select(corr('median_house_value', 'median_income')).show()"
   ],
   "metadata": {
    "collapsed": false,
    "pycharm": {
     "name": "#%%\n"
    }
   }
  },
  {
   "cell_type": "markdown",
   "source": [
    "One important aspect of feature engineering is understanding the relationships between different features. Here, we calculate the correlation between the `median_house_value` and `median_income` columns using the `corr` function from `pyspark.sql.functions`. The correlation coefficient is a statistical measure of the strength of the relationship between the relative movements of two variables. The values range between -1.0 and 1.0, where 1 means a strong positive relationship, -1 means a strong negative relationship, and 0 means no relationship.\n"
   ],
   "metadata": {
    "collapsed": false
   }
  },
  {
   "cell_type": "code",
   "execution_count": 8,
   "outputs": [
    {
     "name": "stdout",
     "output_type": "stream",
     "text": [
      "+---------------+--------+------------------+------------------+------------------+------------------+------------------+------------------+------------------+------------------+------------------+------------------+------------------+------------------+------------------+------------------+------------------+------------------+------------------+------------------+------------------+------------------+------------------+------------------+------------------+------------------+------------------+------------------+------------------+------------------+------------------+------------------+------------------+------------------+------------------+------------------+------------------+------------------+------------------+------------------+------------------+------------------+------------------+------------------+------------------+------------------+------------------+------------------+------------------+------------------+------------------+------------------+------------------+\n",
      "|ocean_proximity|     1.0|               2.0|               3.0|               4.0|               5.0|               6.0|               7.0|               8.0|               9.0|              10.0|              11.0|              12.0|              13.0|              14.0|              15.0|              16.0|              17.0|              18.0|              19.0|              20.0|              21.0|              22.0|              23.0|              24.0|              25.0|              26.0|              27.0|              28.0|              29.0|              30.0|              31.0|              32.0|              33.0|              34.0|              35.0|              36.0|              37.0|              38.0|              39.0|              40.0|              41.0|              42.0|              43.0|              44.0|              45.0|              46.0|              47.0|              48.0|              49.0|              50.0|              51.0|              52.0|\n",
      "+---------------+--------+------------------+------------------+------------------+------------------+------------------+------------------+------------------+------------------+------------------+------------------+------------------+------------------+------------------+------------------+------------------+------------------+------------------+------------------+------------------+------------------+------------------+------------------+------------------+------------------+------------------+------------------+------------------+------------------+------------------+------------------+------------------+------------------+------------------+------------------+------------------+------------------+------------------+------------------+------------------+------------------+------------------+------------------+------------------+------------------+------------------+------------------+------------------+------------------+------------------+------------------+------------------+\n",
      "|         ISLAND|    null|              null|              null|              null|              null|              null|              null|              null|              null|              null|              null|              null|              null|              null|              null|              null|              null|              null|              null|              null|              null|              null|              null|              null|              null|              null|              null|              null|          287500.0|              null|              null|              null|              null|              null|              null|              null|              null|              null|              null|              null|              null|              null|              null|              null|              null|              null|              null|              null|              null|              null|              null|          300000.0|\n",
      "|     NEAR OCEAN|    null|          158500.0|              null|209061.53846153847|189761.53846153847| 275683.3333333333|          245600.0|          178290.0|209653.33333333334|186045.45454545456|161566.66666666666|198353.84615384616|171838.46153846153|          191320.0|192668.18181818182|201791.80327868852|193350.84745762713|221598.07692307694| 193897.0588235294|          199304.0|213996.15384615384|203407.14285714287| 198173.5849056604|231455.55555555556|200264.70588235295| 211470.6896551724|202013.84615384616|206065.38461538462|188076.19047619047|          196644.0|205459.67741935485|          190100.0|  196078.431372549|221306.15384615384|215831.81818181818|217889.33333333334|205033.89830508476|          208907.5| 238102.1739130435| 240896.7741935484|224311.76470588235| 230984.2105263158|          218725.0|255369.38775510204|242847.61904761905|218808.82352941178|222133.33333333334| 213464.2857142857|          252900.0|206221.42857142858| 282083.3333333333|222979.62962962964|\n",
      "|       NEAR BAY|    null|          220625.0|          175000.0|          208275.0|204316.66666666666|210433.33333333334|          161300.0|          236625.0|221366.66666666666|          192150.0|          269100.0|          222250.0|          288000.0|          239212.5|          210060.0|204383.33333333334| 208647.0588235294|262311.76470588235|206631.81818181818| 206685.7142857143|232736.36363636365|176677.77777777778|          227730.0|217121.05263157896| 223584.2105263158|         221893.75|214317.39130434784|186139.13043478262| 198785.7142857143|234744.44444444444| 202144.8275862069|238641.66666666666|216292.85714285713|219524.39024390245|207986.66666666666|          210500.0|199155.55555555556|187466.66666666666|205797.36842105264|166643.33333333334|190645.45454545456|204677.14285714287|          163302.5|177975.60975609755|          179088.0|193719.51219512196|189232.43243243243|229336.66666666666|186769.04761904763|189912.12121212122|191708.33333333334| 247541.7808219178|\n",
      "|      <1H OCEAN|    null|          212650.0|          228787.5|217703.44827586206| 218493.9393939394|210333.33333333334|189895.65217391305|225832.25806451612|214865.11627906977|209436.53846153847|201339.13043478262|232864.44444444444|211617.85714285713|226672.61904761905|211376.72413793104|224385.77075098813|216360.43956043955|214926.57342657342| 215402.9411764706|228826.96629213484|222830.63063063062|223779.04761904763|220346.03174603175|225131.46853146853|240046.52406417113|220624.66367713004|229743.33333333334|219236.84210526315| 224193.5064935065|206676.54320987655|207701.70454545456| 210977.4336283186|208353.57142857142|210886.18421052632|206991.12709832133| 207184.1607565012|196481.93832599118|184765.54054054053|          190248.0|191769.92481203008|185038.46153846153|184751.72413793104|182637.83783783784|198400.65359477125|202353.65853658537| 199457.8947368421|171996.51162790696| 202976.8115942029|209904.25531914894|197943.18181818182|          233940.0| 227326.8085106383|\n",
      "|         INLAND|144300.0|154733.33333333334|158055.55555555556|160286.11111111112|135222.22222222222|145517.02127659574|144880.70175438595|          143012.5|135071.62162162163|124640.70796460177|135735.48387096773|129385.71428571429|135826.66666666666| 133035.2564102564|121835.75129533678|133482.10975609755|127790.75630252101|113665.44502617801|118370.16959064327| 114691.9540229885|106414.78873239437|          121000.0|111051.58730158731|110299.19354838709|113013.51351351352|113824.02597402598|112895.65217391304|110691.33858267717|103045.13888888889|105850.37037037036|100450.47619047618|109711.53846153847|106274.69135802469|106569.13580246913|        105845.625| 112465.8901734104|106397.34513274336|107994.17475728155|106511.68831168831| 98622.22222222222|        83629.6875|112028.76712328767| 97916.66666666667| 115396.8253968254|121729.54545454546|128066.03773584905|109128.57142857143|111521.62162162163|126535.29411764706| 90818.18181818182| 98207.69230769231|124651.15697674418|\n",
      "+---------------+--------+------------------+------------------+------------------+------------------+------------------+------------------+------------------+------------------+------------------+------------------+------------------+------------------+------------------+------------------+------------------+------------------+------------------+------------------+------------------+------------------+------------------+------------------+------------------+------------------+------------------+------------------+------------------+------------------+------------------+------------------+------------------+------------------+------------------+------------------+------------------+------------------+------------------+------------------+------------------+------------------+------------------+------------------+------------------+------------------+------------------+------------------+------------------+------------------+------------------+------------------+------------------+\n",
      "\n"
     ]
    }
   ],
   "source": [
    "# Create a pivot table\n",
    "pivot_df = df.groupBy(\"ocean_proximity\").pivot(\"housing_median_age\").mean(\"median_house_value\")\n",
    "pivot_df.show()"
   ],
   "metadata": {
    "collapsed": false,
    "pycharm": {
     "name": "#%%\n"
    }
   }
  },
  {
   "cell_type": "markdown",
   "source": [
    "Pivot tables are a useful tool to summarize and analyze large datasets. Here, we create a pivot table using the `groupBy` and `pivot` methods on our DataFrame, with `ocean_proximity` as the index, `housing_median_age` as the column, and the average `median_house_value` as the values. The resulting DataFrame shows the average median house value for each combination of ocean proximity and housing median age.\n"
   ],
   "metadata": {
    "collapsed": false
   }
  },
  {
   "cell_type": "code",
   "execution_count": 9,
   "outputs": [
    {
     "name": "stdout",
     "output_type": "stream",
     "text": [
      "+---------+--------+------------------+-----------+--------------+----------+----------+-------------+------------------+---------------+-------------------+------------------------+-------------------+---------------------+-----------------+\n",
      "|longitude|latitude|housing_median_age|total_rooms|total_bedrooms|population|households|median_income|median_house_value|ocean_proximity|rooms_per_household|population_per_household|  bedrooms_per_room|ocean_proximity_index| avg_price_by_age|\n",
      "+---------+--------+------------------+-----------+--------------+----------+----------+-------------+------------------+---------------+-------------------+------------------------+-------------------+---------------------+-----------------+\n",
      "|  -117.95|   35.08|               1.0|       83.0|          15.0|      32.0|      15.0|        4.875|          141700.0|         INLAND|  5.533333333333333|      2.1333333333333333|0.18072289156626506|                  1.0|         144300.0|\n",
      "|  -116.95|   33.86|               1.0|        6.0|           2.0|       8.0|       2.0|        1.625|           55000.0|         INLAND|                3.0|                     4.0| 0.3333333333333333|                  1.0|         144300.0|\n",
      "|   -122.0|   38.23|               1.0|     2062.0|         343.0|     872.0|     268.0|       5.2636|          191300.0|         INLAND| 7.6940298507462686|       3.253731343283582|0.16634335596508246|                  1.0|         144300.0|\n",
      "|  -120.93|   37.65|               1.0|     2254.0|         328.0|     402.0|     112.0|         4.25|          189200.0|         INLAND|             20.125|      3.5892857142857144|0.14551907719609583|                  1.0|         144300.0|\n",
      "|  -122.29|   37.82|               2.0|      158.0|          43.0|      94.0|      57.0|       2.5625|           60000.0|       NEAR BAY| 2.7719298245614037|      1.6491228070175439| 0.2721518987341772|                  3.0|173214.8148148148|\n",
      "|  -122.01|   37.59|               2.0|      838.0|         295.0|     240.0|     149.0|        2.875|          237500.0|       NEAR BAY|  5.624161073825503|       1.610738255033557| 0.3520286396181384|                  3.0|173214.8148148148|\n",
      "|  -121.96|   37.99|               2.0|     3129.0|         707.0|    1606.0|     698.0|       2.9591|          210100.0|         INLAND|  4.482808022922636|      2.3008595988538683|0.22595078299776286|                  1.0|173214.8148148148|\n",
      "|  -119.88|   36.83|               2.0|     4055.0|         735.0|    1730.0|     654.0|       4.2132|           96500.0|         INLAND|  6.200305810397554|      2.6452599388379205| 0.1812577065351418|                  1.0|173214.8148148148|\n",
      "|  -119.67|   36.82|               2.0|     2579.0|         376.0|    1133.0|     342.0|       4.5577|          123300.0|         INLAND|   7.54093567251462|      3.3128654970760234|0.14579294300116324|                  1.0|173214.8148148148|\n",
      "|   -115.8|   33.26|               2.0|       96.0|          18.0|      30.0|      16.0|       5.3374|           47500.0|         INLAND|                6.0|                   1.875|             0.1875|                  1.0|173214.8148148148|\n",
      "+---------+--------+------------------+-----------+--------------+----------+----------+-------------+------------------+---------------+-------------------+------------------------+-------------------+---------------------+-----------------+\n",
      "only showing top 10 rows\n",
      "\n"
     ]
    }
   ],
   "source": [
    "from pyspark.sql.window import Window\n",
    "from pyspark.sql.functions import avg\n",
    "\n",
    "# Define a window partitioned by 'housing_median_age'\n",
    "window = Window.partitionBy('housing_median_age')\n",
    "\n",
    "# Add a new column 'avg_price_by_age' which is the average price for each 'housing_median_age'\n",
    "df = df.withColumn('avg_price_by_age', avg('median_house_value').over(window))\n",
    "\n",
    "# Show some data\n",
    "df.show(10)"
   ],
   "metadata": {
    "collapsed": false,
    "pycharm": {
     "name": "#%%\n"
    }
   }
  },
  {
   "cell_type": "markdown",
   "source": [
    "Here we are using Spark's Window Functions to calculate the average price for each unique 'housing_median_age' group. This is done by defining a Window that is partitioned by 'housing_median_age', and then calculating the average 'median_house_value' over this Window.\n",
    "\n",
    "The resulting 'avg_price_by_age' column shows us the average house price for houses of the same median age, providing us with more insight into the relationship between the age of the housing and the house prices.\n"
   ],
   "metadata": {
    "collapsed": false
   }
  },
  {
   "cell_type": "markdown",
   "source": [
    "## Save processed dataset"
   ],
   "metadata": {
    "collapsed": false
   }
  },
  {
   "cell_type": "code",
   "execution_count": 11,
   "outputs": [],
   "source": [
    "# Write the processed DataFrame to a new CSV file\n",
    "df.write.csv(\"processed_housing.csv\", header=True)"
   ],
   "metadata": {
    "collapsed": false,
    "pycharm": {
     "name": "#%%\n"
    }
   }
  },
  {
   "cell_type": "markdown",
   "source": [
    "## Summary\n",
    "\n",
    "After performing all the necessary steps to clean, transform, and enrich our data using Spark, we save our processed DataFrame to a new CSV file named \"processed_housing.csv\" using Spark's `write.csv` function.\n",
    "\n",
    "This marks the end of our data processing phase. In this notebook, we loaded the California Housing dataset into a Spark DataFrame, inspected the data, and made some initial transformations. We handled missing values and outliers, encoded categorical variables, created some new features, and performed other transformations that will help in building our predictive model.\n",
    "\n",
    "By utilizing Apache Spark, we were able to handle big data processing efficiently, which is crucial when working with large datasets like the one we have. The transformed dataset is now ready for further analysis and machine learning modeling, which will be performed in the next notebooks.\n",
    "\n",
    "From a business perspective, all of these transformations were made to ensure that the dataset accurately represents the problem at hand - predicting housing prices in California. Understanding the data, making necessary adjustments, and creating new meaningful features are all important steps towards creating an accurate and robust predictive model that can aid various stakeholders in making informed decisions."
   ],
   "metadata": {
    "collapsed": false,
    "pycharm": {
     "name": "#%% md\n"
    }
   }
  }
 ],
 "metadata": {
  "kernelspec": {
   "display_name": "Python 3",
   "language": "python",
   "name": "python3"
  },
  "language_info": {
   "codemirror_mode": {
    "name": "ipython",
    "version": 2
   },
   "file_extension": ".py",
   "mimetype": "text/x-python",
   "name": "python",
   "nbconvert_exporter": "python",
   "pygments_lexer": "ipython2",
   "version": "2.7.6"
  }
 },
 "nbformat": 4,
 "nbformat_minor": 0
}